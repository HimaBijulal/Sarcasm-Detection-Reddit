{
 "cells": [
  {
   "cell_type": "code",
   "execution_count": 60,
   "metadata": {},
   "outputs": [
    {
     "name": "stdout",
     "output_type": "stream",
     "text": [
      "<class 'pandas.core.frame.DataFrame'>\n",
      "RangeIndex: 1010826 entries, 0 to 1010825\n",
      "Data columns (total 2 columns):\n",
      " #   Column   Non-Null Count    Dtype \n",
      "---  ------   --------------    ----- \n",
      " 0   comment  1010826 non-null  object\n",
      " 1   label    1010826 non-null  int64 \n",
      "dtypes: int64(1), object(1)\n",
      "memory usage: 15.4+ MB\n"
     ]
    },
    {
     "name": "stderr",
     "output_type": "stream",
     "text": [
      "C:\\Users\\feraa\\Anaconda3\\lib\\site-packages\\ipykernel_launcher.py:47: SettingWithCopyWarning: \n",
      "A value is trying to be set on a copy of a slice from a DataFrame.\n",
      "Try using .loc[row_indexer,col_indexer] = value instead\n",
      "\n",
      "See the caveats in the documentation: https://pandas.pydata.org/pandas-docs/stable/user_guide/indexing.html#returning-a-view-versus-a-copy\n"
     ]
    }
   ],
   "source": [
    "from mpl_toolkits.mplot3d import Axes3D\n",
    "from sklearn.preprocessing import StandardScaler\n",
    "import matplotlib.pyplot as plt \n",
    "import numpy as np \n",
    "import os \n",
    "import pandas as pd \n",
    "import keras\n",
    "from tensorflow.keras.datasets import mnist\n",
    "import matplotlib.pyplot as plt\n",
    "from matplotlib.image import imread\n",
    "from PIL import Image\n",
    "\n",
    "from tensorflow.keras.models import Sequential\n",
    "from tensorflow.keras.layers import Dense\n",
    "from sklearn.preprocessing import OneHotEncoder\n",
    "\n",
    "from sklearn.metrics import confusion_matrix\n",
    "from sklearn.metrics import accuracy_score\n",
    "\n",
    "from sklearn.metrics import f1_score\n",
    "from sklearn.metrics import precision_score\n",
    "from sklearn.metrics import recall_score\n",
    "from sklearn.metrics import classification_report\n",
    "import tensorflow as tf\n",
    "import re\n",
    "\n",
    "# Importing required libraries\n",
    "import json\n",
    "import tensorflow as tf\n",
    "import requests\n",
    "import numpy as np\n",
    "import pandas as pd\n",
    "import matplotlib.pyplot as plt\n",
    "from tensorflow.keras.preprocessing.text import Tokenizer\n",
    "from tensorflow.keras.preprocessing.sequence import pad_sequences\n",
    "\n",
    "\n",
    "from sklearn.model_selection import KFold\n",
    "\n",
    "\n",
    "#print how many rows and columns are there in the csv file\n",
    "df = pd.read_csv('train-balanced-sarcasm.csv')\n",
    "\n",
    "\n",
    "df_useful_x = df[['comment','label']]\n",
    "df_useful_y = df[['label']]\n",
    "df_useful_x['comment'] = df_useful_x['comment'].astype('str')\n",
    "\n",
    "df_useful_x.info()"
   ]
  },
  {
   "cell_type": "code",
   "execution_count": 61,
   "metadata": {},
   "outputs": [
    {
     "name": "stderr",
     "output_type": "stream",
     "text": [
      "C:\\Users\\feraa\\Anaconda3\\lib\\site-packages\\ipykernel_launcher.py:2: SettingWithCopyWarning: \n",
      "A value is trying to be set on a copy of a slice from a DataFrame.\n",
      "Try using .loc[row_indexer,col_indexer] = value instead\n",
      "\n",
      "See the caveats in the documentation: https://pandas.pydata.org/pandas-docs/stable/user_guide/indexing.html#returning-a-view-versus-a-copy\n",
      "  \n"
     ]
    },
    {
     "data": {
      "text/html": [
       "<div>\n",
       "<style scoped>\n",
       "    .dataframe tbody tr th:only-of-type {\n",
       "        vertical-align: middle;\n",
       "    }\n",
       "\n",
       "    .dataframe tbody tr th {\n",
       "        vertical-align: top;\n",
       "    }\n",
       "\n",
       "    .dataframe thead th {\n",
       "        text-align: right;\n",
       "    }\n",
       "</style>\n",
       "<table border=\"1\" class=\"dataframe\">\n",
       "  <thead>\n",
       "    <tr style=\"text-align: right;\">\n",
       "      <th></th>\n",
       "      <th>comment</th>\n",
       "      <th>label</th>\n",
       "      <th>pre_clean_len</th>\n",
       "    </tr>\n",
       "  </thead>\n",
       "  <tbody>\n",
       "    <tr>\n",
       "      <th>0</th>\n",
       "      <td>NC and NH.</td>\n",
       "      <td>0</td>\n",
       "      <td>10</td>\n",
       "    </tr>\n",
       "    <tr>\n",
       "      <th>1</th>\n",
       "      <td>You do know west teams play against west teams...</td>\n",
       "      <td>0</td>\n",
       "      <td>74</td>\n",
       "    </tr>\n",
       "    <tr>\n",
       "      <th>2</th>\n",
       "      <td>They were underdogs earlier today, but since G...</td>\n",
       "      <td>0</td>\n",
       "      <td>121</td>\n",
       "    </tr>\n",
       "    <tr>\n",
       "      <th>3</th>\n",
       "      <td>This meme isn't funny none of the \"new york ni...</td>\n",
       "      <td>0</td>\n",
       "      <td>60</td>\n",
       "    </tr>\n",
       "    <tr>\n",
       "      <th>4</th>\n",
       "      <td>I could use one of those tools.</td>\n",
       "      <td>0</td>\n",
       "      <td>31</td>\n",
       "    </tr>\n",
       "    <tr>\n",
       "      <th>...</th>\n",
       "      <td>...</td>\n",
       "      <td>...</td>\n",
       "      <td>...</td>\n",
       "    </tr>\n",
       "    <tr>\n",
       "      <th>1010821</th>\n",
       "      <td>I'm sure that Iran and N. Korea have the techn...</td>\n",
       "      <td>1</td>\n",
       "      <td>92</td>\n",
       "    </tr>\n",
       "    <tr>\n",
       "      <th>1010822</th>\n",
       "      <td>whatever you do, don't vote green!</td>\n",
       "      <td>1</td>\n",
       "      <td>34</td>\n",
       "    </tr>\n",
       "    <tr>\n",
       "      <th>1010823</th>\n",
       "      <td>Perhaps this is an atheist conspiracy to make ...</td>\n",
       "      <td>1</td>\n",
       "      <td>66</td>\n",
       "    </tr>\n",
       "    <tr>\n",
       "      <th>1010824</th>\n",
       "      <td>The Slavs got their own country - it is called...</td>\n",
       "      <td>1</td>\n",
       "      <td>53</td>\n",
       "    </tr>\n",
       "    <tr>\n",
       "      <th>1010825</th>\n",
       "      <td>values, as in capitalism .. there is good mone...</td>\n",
       "      <td>1</td>\n",
       "      <td>72</td>\n",
       "    </tr>\n",
       "  </tbody>\n",
       "</table>\n",
       "<p>1010826 rows × 3 columns</p>\n",
       "</div>"
      ],
      "text/plain": [
       "                                                   comment  label  \\\n",
       "0                                               NC and NH.      0   \n",
       "1        You do know west teams play against west teams...      0   \n",
       "2        They were underdogs earlier today, but since G...      0   \n",
       "3        This meme isn't funny none of the \"new york ni...      0   \n",
       "4                          I could use one of those tools.      0   \n",
       "...                                                    ...    ...   \n",
       "1010821  I'm sure that Iran and N. Korea have the techn...      1   \n",
       "1010822                 whatever you do, don't vote green!      1   \n",
       "1010823  Perhaps this is an atheist conspiracy to make ...      1   \n",
       "1010824  The Slavs got their own country - it is called...      1   \n",
       "1010825  values, as in capitalism .. there is good mone...      1   \n",
       "\n",
       "         pre_clean_len  \n",
       "0                   10  \n",
       "1                   74  \n",
       "2                  121  \n",
       "3                   60  \n",
       "4                   31  \n",
       "...                ...  \n",
       "1010821             92  \n",
       "1010822             34  \n",
       "1010823             66  \n",
       "1010824             53  \n",
       "1010825             72  \n",
       "\n",
       "[1010826 rows x 3 columns]"
      ]
     },
     "execution_count": 61,
     "metadata": {},
     "output_type": "execute_result"
    }
   ],
   "source": [
    "df_useful_x\n",
    "df_useful_x['pre_clean_len'] = [len(t) for t in df_useful_x.comment]\n",
    "df_useful_x\n"
   ]
  },
  {
   "cell_type": "code",
   "execution_count": 62,
   "metadata": {},
   "outputs": [
    {
     "name": "stdout",
     "output_type": "stream",
     "text": [
      "Cleaning and parsing the comments...\n",
      "\n",
      "comments 10000 of 1010826 has been processed\n"
     ]
    },
    {
     "name": "stderr",
     "output_type": "stream",
     "text": [
      "C:\\Users\\feraa\\Anaconda3\\lib\\site-packages\\bs4\\__init__.py:314: UserWarning: \"b'.....'\" looks like a filename, not markup. You should probably open this file and pass the filehandle into Beautiful Soup.\n",
      "  ' Beautiful Soup.' % markup)\n",
      "C:\\Users\\feraa\\Anaconda3\\lib\\site-packages\\bs4\\__init__.py:314: UserWarning: \"b'...'\" looks like a filename, not markup. You should probably open this file and pass the filehandle into Beautiful Soup.\n",
      "  ' Beautiful Soup.' % markup)\n"
     ]
    },
    {
     "name": "stdout",
     "output_type": "stream",
     "text": [
      "comments 20000 of 1010826 has been processed\n"
     ]
    },
    {
     "name": "stderr",
     "output_type": "stream",
     "text": [
      "C:\\Users\\feraa\\Anaconda3\\lib\\site-packages\\bs4\\__init__.py:314: UserWarning: \"b'/'\" looks like a filename, not markup. You should probably open this file and pass the filehandle into Beautiful Soup.\n",
      "  ' Beautiful Soup.' % markup)\n",
      "C:\\Users\\feraa\\Anaconda3\\lib\\site-packages\\bs4\\__init__.py:314: UserWarning: \"b'....'\" looks like a filename, not markup. You should probably open this file and pass the filehandle into Beautiful Soup.\n",
      "  ' Beautiful Soup.' % markup)\n"
     ]
    },
    {
     "name": "stdout",
     "output_type": "stream",
     "text": [
      "comments 30000 of 1010826 has been processed\n",
      "comments 40000 of 1010826 has been processed\n",
      "comments 50000 of 1010826 has been processed\n",
      "comments 60000 of 1010826 has been processed\n"
     ]
    },
    {
     "name": "stderr",
     "output_type": "stream",
     "text": [
      "C:\\Users\\feraa\\Anaconda3\\lib\\site-packages\\bs4\\__init__.py:314: UserWarning: \"b'...........'\" looks like a filename, not markup. You should probably open this file and pass the filehandle into Beautiful Soup.\n",
      "  ' Beautiful Soup.' % markup)\n"
     ]
    },
    {
     "name": "stdout",
     "output_type": "stream",
     "text": [
      "comments 70000 of 1010826 has been processed\n",
      "comments 80000 of 1010826 has been processed\n",
      "comments 90000 of 1010826 has been processed\n"
     ]
    },
    {
     "name": "stderr",
     "output_type": "stream",
     "text": [
      "C:\\Users\\feraa\\Anaconda3\\lib\\site-packages\\bs4\\__init__.py:314: UserWarning: \"b'.......'\" looks like a filename, not markup. You should probably open this file and pass the filehandle into Beautiful Soup.\n",
      "  ' Beautiful Soup.' % markup)\n"
     ]
    },
    {
     "name": "stdout",
     "output_type": "stream",
     "text": [
      "comments 100000 of 1010826 has been processed\n",
      "comments 110000 of 1010826 has been processed\n",
      "comments 120000 of 1010826 has been processed\n",
      "comments 130000 of 1010826 has been processed\n"
     ]
    },
    {
     "name": "stderr",
     "output_type": "stream",
     "text": [
      "C:\\Users\\feraa\\Anaconda3\\lib\\site-packages\\bs4\\__init__.py:314: UserWarning: \"b'........'\" looks like a filename, not markup. You should probably open this file and pass the filehandle into Beautiful Soup.\n",
      "  ' Beautiful Soup.' % markup)\n"
     ]
    },
    {
     "name": "stdout",
     "output_type": "stream",
     "text": [
      "comments 140000 of 1010826 has been processed\n"
     ]
    },
    {
     "name": "stderr",
     "output_type": "stream",
     "text": [
      "C:\\Users\\feraa\\Anaconda3\\lib\\site-packages\\bs4\\__init__.py:314: UserWarning: \"b'.'\" looks like a filename, not markup. You should probably open this file and pass the filehandle into Beautiful Soup.\n",
      "  ' Beautiful Soup.' % markup)\n"
     ]
    },
    {
     "name": "stdout",
     "output_type": "stream",
     "text": [
      "comments 150000 of 1010826 has been processed\n"
     ]
    },
    {
     "name": "stderr",
     "output_type": "stream",
     "text": [
      "C:\\Users\\feraa\\Anaconda3\\lib\\site-packages\\bs4\\__init__.py:314: UserWarning: \"b'......'\" looks like a filename, not markup. You should probably open this file and pass the filehandle into Beautiful Soup.\n",
      "  ' Beautiful Soup.' % markup)\n"
     ]
    },
    {
     "name": "stdout",
     "output_type": "stream",
     "text": [
      "comments 160000 of 1010826 has been processed\n",
      "comments 170000 of 1010826 has been processed\n",
      "comments 180000 of 1010826 has been processed\n",
      "comments 190000 of 1010826 has been processed\n"
     ]
    },
    {
     "name": "stderr",
     "output_type": "stream",
     "text": [
      "C:\\Users\\feraa\\Anaconda3\\lib\\site-packages\\bs4\\__init__.py:314: UserWarning: \"b'C:'\" looks like a filename, not markup. You should probably open this file and pass the filehandle into Beautiful Soup.\n",
      "  ' Beautiful Soup.' % markup)\n"
     ]
    },
    {
     "name": "stdout",
     "output_type": "stream",
     "text": [
      "comments 200000 of 1010826 has been processed\n",
      "comments 210000 of 1010826 has been processed\n",
      "comments 220000 of 1010826 has been processed\n"
     ]
    },
    {
     "name": "stderr",
     "output_type": "stream",
     "text": [
      "C:\\Users\\feraa\\Anaconda3\\lib\\site-packages\\bs4\\__init__.py:314: UserWarning: \"b'c:'\" looks like a filename, not markup. You should probably open this file and pass the filehandle into Beautiful Soup.\n",
      "  ' Beautiful Soup.' % markup)\n"
     ]
    },
    {
     "name": "stdout",
     "output_type": "stream",
     "text": [
      "comments 230000 of 1010826 has been processed\n",
      "comments 240000 of 1010826 has been processed\n",
      "comments 250000 of 1010826 has been processed\n",
      "comments 260000 of 1010826 has been processed\n",
      "comments 270000 of 1010826 has been processed\n",
      "comments 280000 of 1010826 has been processed\n",
      "comments 290000 of 1010826 has been processed\n"
     ]
    },
    {
     "name": "stderr",
     "output_type": "stream",
     "text": [
      "C:\\Users\\feraa\\Anaconda3\\lib\\site-packages\\bs4\\__init__.py:314: UserWarning: \"b'.............'\" looks like a filename, not markup. You should probably open this file and pass the filehandle into Beautiful Soup.\n",
      "  ' Beautiful Soup.' % markup)\n"
     ]
    },
    {
     "name": "stdout",
     "output_type": "stream",
     "text": [
      "comments 300000 of 1010826 has been processed\n"
     ]
    },
    {
     "name": "stderr",
     "output_type": "stream",
     "text": [
      "C:\\Users\\feraa\\Anaconda3\\lib\\site-packages\\bs4\\__init__.py:314: UserWarning: \"b'..........'\" looks like a filename, not markup. You should probably open this file and pass the filehandle into Beautiful Soup.\n",
      "  ' Beautiful Soup.' % markup)\n"
     ]
    },
    {
     "name": "stdout",
     "output_type": "stream",
     "text": [
      "comments 310000 of 1010826 has been processed\n",
      "comments 320000 of 1010826 has been processed\n",
      "comments 330000 of 1010826 has been processed\n",
      "comments 340000 of 1010826 has been processed\n",
      "comments 350000 of 1010826 has been processed\n",
      "comments 360000 of 1010826 has been processed\n",
      "comments 370000 of 1010826 has been processed\n",
      "comments 380000 of 1010826 has been processed\n",
      "comments 390000 of 1010826 has been processed\n",
      "comments 400000 of 1010826 has been processed\n"
     ]
    },
    {
     "name": "stderr",
     "output_type": "stream",
     "text": [
      "C:\\Users\\feraa\\Anaconda3\\lib\\site-packages\\bs4\\__init__.py:314: UserWarning: \"b'.............................'\" looks like a filename, not markup. You should probably open this file and pass the filehandle into Beautiful Soup.\n",
      "  ' Beautiful Soup.' % markup)\n"
     ]
    },
    {
     "name": "stdout",
     "output_type": "stream",
     "text": [
      "comments 410000 of 1010826 has been processed\n",
      "comments 420000 of 1010826 has been processed\n",
      "comments 430000 of 1010826 has been processed\n",
      "comments 440000 of 1010826 has been processed\n",
      "comments 450000 of 1010826 has been processed\n"
     ]
    },
    {
     "name": "stderr",
     "output_type": "stream",
     "text": [
      "C:\\Users\\feraa\\Anaconda3\\lib\\site-packages\\bs4\\__init__.py:314: UserWarning: \"b'... ...'\" looks like a filename, not markup. You should probably open this file and pass the filehandle into Beautiful Soup.\n",
      "  ' Beautiful Soup.' % markup)\n"
     ]
    },
    {
     "name": "stdout",
     "output_type": "stream",
     "text": [
      "comments 460000 of 1010826 has been processed\n"
     ]
    },
    {
     "name": "stderr",
     "output_type": "stream",
     "text": [
      "C:\\Users\\feraa\\Anaconda3\\lib\\site-packages\\bs4\\__init__.py:314: UserWarning: \"b'.................'\" looks like a filename, not markup. You should probably open this file and pass the filehandle into Beautiful Soup.\n",
      "  ' Beautiful Soup.' % markup)\n"
     ]
    },
    {
     "name": "stdout",
     "output_type": "stream",
     "text": [
      "comments 470000 of 1010826 has been processed\n",
      "comments 480000 of 1010826 has been processed\n",
      "comments 490000 of 1010826 has been processed\n"
     ]
    },
    {
     "name": "stderr",
     "output_type": "stream",
     "text": [
      "C:\\Users\\feraa\\Anaconda3\\lib\\site-packages\\bs4\\__init__.py:314: UserWarning: \"b'... ............................................'\" looks like a filename, not markup. You should probably open this file and pass the filehandle into Beautiful Soup.\n",
      "  ' Beautiful Soup.' % markup)\n"
     ]
    },
    {
     "name": "stdout",
     "output_type": "stream",
     "text": [
      "comments 500000 of 1010826 has been processed\n",
      "comments 510000 of 1010826 has been processed\n",
      "comments 520000 of 1010826 has been processed\n",
      "comments 530000 of 1010826 has been processed\n",
      "comments 540000 of 1010826 has been processed\n",
      "comments 550000 of 1010826 has been processed\n",
      "comments 560000 of 1010826 has been processed\n",
      "comments 570000 of 1010826 has been processed\n",
      "comments 580000 of 1010826 has been processed\n",
      "comments 590000 of 1010826 has been processed\n",
      "comments 600000 of 1010826 has been processed\n",
      "comments 610000 of 1010826 has been processed\n"
     ]
    },
    {
     "name": "stderr",
     "output_type": "stream",
     "text": [
      "C:\\Users\\feraa\\Anaconda3\\lib\\site-packages\\bs4\\__init__.py:314: UserWarning: \"b'.........'\" looks like a filename, not markup. You should probably open this file and pass the filehandle into Beautiful Soup.\n",
      "  ' Beautiful Soup.' % markup)\n"
     ]
    },
    {
     "name": "stdout",
     "output_type": "stream",
     "text": [
      "comments 620000 of 1010826 has been processed\n",
      "comments 630000 of 1010826 has been processed\n",
      "comments 640000 of 1010826 has been processed\n",
      "comments 650000 of 1010826 has been processed\n",
      "comments 660000 of 1010826 has been processed\n"
     ]
    },
    {
     "name": "stderr",
     "output_type": "stream",
     "text": [
      "C:\\Users\\feraa\\Anaconda3\\lib\\site-packages\\bs4\\__init__.py:314: UserWarning: \"b'..............'\" looks like a filename, not markup. You should probably open this file and pass the filehandle into Beautiful Soup.\n",
      "  ' Beautiful Soup.' % markup)\n"
     ]
    },
    {
     "name": "stdout",
     "output_type": "stream",
     "text": [
      "comments 670000 of 1010826 has been processed\n",
      "comments 680000 of 1010826 has been processed\n"
     ]
    },
    {
     "name": "stderr",
     "output_type": "stream",
     "text": [
      "C:\\Users\\feraa\\Anaconda3\\lib\\site-packages\\bs4\\__init__.py:314: UserWarning: \"b'..'\" looks like a filename, not markup. You should probably open this file and pass the filehandle into Beautiful Soup.\n",
      "  ' Beautiful Soup.' % markup)\n"
     ]
    },
    {
     "name": "stdout",
     "output_type": "stream",
     "text": [
      "comments 690000 of 1010826 has been processed\n",
      "comments 700000 of 1010826 has been processed\n",
      "comments 710000 of 1010826 has been processed\n",
      "comments 720000 of 1010826 has been processed\n",
      "comments 730000 of 1010826 has been processed\n",
      "comments 740000 of 1010826 has been processed\n",
      "comments 750000 of 1010826 has been processed\n"
     ]
    },
    {
     "name": "stderr",
     "output_type": "stream",
     "text": [
      "C:\\Users\\feraa\\Anaconda3\\lib\\site-packages\\bs4\\__init__.py:314: UserWarning: \"b'\\\\'\" looks like a filename, not markup. You should probably open this file and pass the filehandle into Beautiful Soup.\n",
      "  ' Beautiful Soup.' % markup)\n"
     ]
    },
    {
     "name": "stdout",
     "output_type": "stream",
     "text": [
      "comments 760000 of 1010826 has been processed\n",
      "comments 770000 of 1010826 has been processed\n",
      "comments 780000 of 1010826 has been processed\n",
      "comments 790000 of 1010826 has been processed\n",
      "comments 800000 of 1010826 has been processed\n",
      "comments 810000 of 1010826 has been processed\n",
      "comments 820000 of 1010826 has been processed\n",
      "comments 830000 of 1010826 has been processed\n",
      "comments 840000 of 1010826 has been processed\n",
      "comments 850000 of 1010826 has been processed\n"
     ]
    },
    {
     "name": "stderr",
     "output_type": "stream",
     "text": [
      "C:\\Users\\feraa\\Anaconda3\\lib\\site-packages\\bs4\\__init__.py:389: UserWarning: \"http://localhost:88/emblem-bot/index.php\" looks like a URL. Beautiful Soup is not an HTTP client. You should probably use an HTTP client like requests to get the document behind the URL, and feed that document to Beautiful Soup.\n",
      "  ' that document to Beautiful Soup.' % decoded_markup\n"
     ]
    },
    {
     "name": "stdout",
     "output_type": "stream",
     "text": [
      "comments 860000 of 1010826 has been processed\n",
      "comments 870000 of 1010826 has been processed\n",
      "comments 880000 of 1010826 has been processed\n",
      "comments 890000 of 1010826 has been processed\n",
      "comments 900000 of 1010826 has been processed\n",
      "comments 910000 of 1010826 has been processed\n",
      "comments 920000 of 1010826 has been processed\n",
      "comments 930000 of 1010826 has been processed\n"
     ]
    },
    {
     "name": "stderr",
     "output_type": "stream",
     "text": [
      "C:\\Users\\feraa\\Anaconda3\\lib\\site-packages\\bs4\\__init__.py:389: UserWarning: \"http://last.word/\" looks like a URL. Beautiful Soup is not an HTTP client. You should probably use an HTTP client like requests to get the document behind the URL, and feed that document to Beautiful Soup.\n",
      "  ' that document to Beautiful Soup.' % decoded_markup\n"
     ]
    },
    {
     "name": "stdout",
     "output_type": "stream",
     "text": [
      "comments 940000 of 1010826 has been processed\n",
      "comments 950000 of 1010826 has been processed\n",
      "comments 960000 of 1010826 has been processed\n",
      "comments 970000 of 1010826 has been processed\n",
      "comments 980000 of 1010826 has been processed\n",
      "comments 990000 of 1010826 has been processed\n",
      "comments 1000000 of 1010826 has been processed\n",
      "comments 1010000 of 1010826 has been processed\n"
     ]
    },
    {
     "data": {
      "text/html": [
       "<div>\n",
       "<style scoped>\n",
       "    .dataframe tbody tr th:only-of-type {\n",
       "        vertical-align: middle;\n",
       "    }\n",
       "\n",
       "    .dataframe tbody tr th {\n",
       "        vertical-align: top;\n",
       "    }\n",
       "\n",
       "    .dataframe thead th {\n",
       "        text-align: right;\n",
       "    }\n",
       "</style>\n",
       "<table border=\"1\" class=\"dataframe\">\n",
       "  <thead>\n",
       "    <tr style=\"text-align: right;\">\n",
       "      <th></th>\n",
       "      <th>comment</th>\n",
       "    </tr>\n",
       "  </thead>\n",
       "  <tbody>\n",
       "    <tr>\n",
       "      <th>0</th>\n",
       "      <td>nc and nh</td>\n",
       "    </tr>\n",
       "    <tr>\n",
       "      <th>1</th>\n",
       "      <td>you do know west teams play against west teams...</td>\n",
       "    </tr>\n",
       "    <tr>\n",
       "      <th>2</th>\n",
       "      <td>they were underdogs earlier today but since gr...</td>\n",
       "    </tr>\n",
       "    <tr>\n",
       "      <th>3</th>\n",
       "      <td>this meme isn t funny none of the new york nig...</td>\n",
       "    </tr>\n",
       "    <tr>\n",
       "      <th>4</th>\n",
       "      <td>i could use one of those tools</td>\n",
       "    </tr>\n",
       "  </tbody>\n",
       "</table>\n",
       "</div>"
      ],
      "text/plain": [
       "                                             comment\n",
       "0                                          nc and nh\n",
       "1  you do know west teams play against west teams...\n",
       "2  they were underdogs earlier today but since gr...\n",
       "3  this meme isn t funny none of the new york nig...\n",
       "4                     i could use one of those tools"
      ]
     },
     "execution_count": 62,
     "metadata": {},
     "output_type": "execute_result"
    }
   ],
   "source": [
    "from bs4 import BeautifulSoup\n",
    "from nltk.tokenize import WordPunctTokenizer\n",
    "tok = WordPunctTokenizer()\n",
    "pat1 = r'@[A-Za-z0-9]+'\n",
    "pat2 = r'https?://[A-Za-z0-9./]+'\n",
    "combined_pat = r'|'.join((pat1, pat2))\n",
    "\n",
    "def text_cleaner(text):\n",
    "    soup = BeautifulSoup(text, 'lxml')\n",
    "    souped = soup.get_text()\n",
    "    stripped = re.sub(combined_pat, '', souped)\n",
    "    try:\n",
    "        clean = stripped.decode(\"utf-8-sig\").replace(u\"\\ufffd\", \"?\")\n",
    "    except:\n",
    "        clean = stripped\n",
    "    letters_only = re.sub(\"[^a-zA-Z]\", \" \", clean)\n",
    "    lower_case = letters_only.lower()\n",
    "    # During the letters_only process two lines above, it has created unnecessay white spaces,\n",
    "    # I will tokenize and join together to remove unneccessary white spaces\n",
    "    words = tok.tokenize(lower_case)\n",
    "    return (\" \".join(words)).strip()\n",
    "\n",
    "\n",
    "\n",
    "#nums = [0,1010826]\n",
    "nums = [0,1010826]\n",
    "print (\"Cleaning and parsing the comments...\\n\")\n",
    "clean_comment_texts = []\n",
    "for i in range(nums[0],nums[1]):\n",
    "    if( (i+1)%10000 == 0 ):\n",
    "        print (\"comments %d of %d has been processed\" % ( i+1, nums[1] ))                                                                    \n",
    "    clean_comment_texts.append(text_cleaner(df_useful_x['comment'][i]))\n",
    "    \n",
    "clean_df = pd.DataFrame(clean_comment_texts,columns=['comment'])\n",
    "\n",
    "clean_df.head()\n"
   ]
  },
  {
   "cell_type": "code",
   "execution_count": 63,
   "metadata": {},
   "outputs": [],
   "source": [
    "labels = df_useful_y['label'].to_list()\n",
    "sentences = clean_df['comment'].to_list()"
   ]
  },
  {
   "cell_type": "code",
   "execution_count": 70,
   "metadata": {},
   "outputs": [],
   "source": [
    "# Splitting the dataset into Train and Test\n",
    "training_size = round(len(clean_df) * .75)\n",
    "\n",
    "training_sentences = sentences[0:training_size]\n",
    "testing_sentences = sentences[training_size:]\n",
    "training_labels = labels[0:training_size]\n",
    "testing_labels = labels[training_size:]\n",
    "\n",
    "\n",
    "# Setting tokenizer properties\n",
    "vocab_size = 10000\n",
    "oov_tok = \"<oov>\"\n",
    "\n",
    "# Fit the tokenizer on Training data\n",
    "tokenizer = Tokenizer(num_words=vocab_size, oov_token=oov_tok)\n",
    "tokenizer.fit_on_texts(training_sentences)\n",
    "\n",
    "word_index = tokenizer.word_index\n",
    "\n",
    "# Setting the padding properties\n",
    "max_length = 100\n",
    "trunc_type='post'\n",
    "padding_type='post'\n",
    "\n",
    "\n",
    "# Creating padded sequences from train and test data\n",
    "training_sequences = tokenizer.texts_to_sequences(training_sentences)\n",
    "training_padded = pad_sequences(training_sequences, maxlen=max_length, padding=padding_type, truncating=trunc_type)\n",
    "\n",
    "testing_sequences = tokenizer.texts_to_sequences(testing_sentences)\n",
    "testing_padded = pad_sequences(testing_sequences, maxlen=max_length, padding=padding_type, truncating=trunc_type)"
   ]
  },
  {
   "cell_type": "code",
   "execution_count": 74,
   "metadata": {},
   "outputs": [
    {
     "name": "stdout",
     "output_type": "stream",
     "text": [
      "Model: \"sequential_5\"\n",
      "_________________________________________________________________\n",
      "Layer (type)                 Output Shape              Param #   \n",
      "=================================================================\n",
      "embedding_5 (Embedding)      (None, 100, 16)           160000    \n",
      "_________________________________________________________________\n",
      "conv1d_5 (Conv1D)            (None, 100, 16)           784       \n",
      "_________________________________________________________________\n",
      "global_average_pooling1d_5 ( (None, 16)                0         \n",
      "_________________________________________________________________\n",
      "flatten_5 (Flatten)          (None, 16)                0         \n",
      "_________________________________________________________________\n",
      "dense_10 (Dense)             (None, 24)                408       \n",
      "_________________________________________________________________\n",
      "dense_11 (Dense)             (None, 2)                 50        \n",
      "=================================================================\n",
      "Total params: 161,242\n",
      "Trainable params: 161,242\n",
      "Non-trainable params: 0\n",
      "_________________________________________________________________\n"
     ]
    }
   ],
   "source": [
    "from keras.models import Sequential\n",
    "from keras.layers import Dense\n",
    "from keras.layers import Flatten\n",
    "from keras.layers.convolutional import Conv1D\n",
    "from keras.layers.convolutional import MaxPooling1D\n",
    "from keras.layers.embeddings import Embedding\n",
    "from keras.preprocessing import sequence\n",
    "\n",
    "# Setting the model\n",
    "embedding_dim = 16\n",
    "\n",
    "\n",
    "model = tf.keras.Sequential([\n",
    "    tf.keras.layers.Embedding(vocab_size, embedding_dim, input_length=max_length),\n",
    "    tf.keras.layers.Conv1D(filters=16, kernel_size=3, padding='same', activation='relu'),\n",
    "    tf.keras.layers.GlobalAveragePooling1D(),\n",
    "    tf.keras.layers.Flatten(),\n",
    "    tf.keras.layers.Dense(24, activation='relu'),\n",
    "    tf.keras.layers.Dense(2, activation='softmax')\n",
    "])\n",
    "\n",
    "model.compile(loss='binary_crossentropy',optimizer='adam',metrics=['accuracy'])\n",
    "\n",
    "model.summary()\n"
   ]
  },
  {
   "cell_type": "code",
   "execution_count": 72,
   "metadata": {
    "scrolled": true
   },
   "outputs": [
    {
     "name": "stdout",
     "output_type": "stream",
     "text": [
      "(758120,)\n",
      "(252706,)\n",
      "(758120, 100)\n",
      "(252706, 100)\n",
      "(758120, 2)\n",
      "(252706, 2)\n",
      "(758120, 100)\n",
      "(252706, 100)\n"
     ]
    }
   ],
   "source": [
    "# Converting the lists to numpy arrays for Tensorflow 2.x\n",
    "training_padded = np.array(training_padded)\n",
    "training_labels = np.array(training_labels)\n",
    "testing_padded = np.array(testing_padded)\n",
    "testing_labels = np.array(testing_labels)\n",
    "\n",
    "\n",
    "print(training_labels.shape)\n",
    "print(testing_labels.shape)\n",
    "print(training_padded.shape)\n",
    "print(testing_padded.shape)\n",
    "# from keras.utils import np_utils\n",
    "# testing_labels = np_utils.to_categorical(testing_labels,num_classes=2)\n",
    "# training_labels = np_utils.to_categorical(training_labels,num_classes=2)\n",
    "\n",
    "from sklearn.preprocessing import OneHotEncoder\n",
    "ohe= OneHotEncoder()\n",
    "training_labels=training_labels.reshape((-1,1))\n",
    "testing_labels=testing_labels.reshape((-1,1))\n",
    "\n",
    "training_labels = ohe.fit_transform(training_labels).toarray()\n",
    "testing_labels = ohe.fit_transform(testing_labels).toarray()\n",
    "\n",
    "print(training_labels.shape)\n",
    "print(testing_labels.shape)\n",
    "print(training_padded.shape)\n",
    "print(testing_padded.shape)\n",
    "# Training the model\n",
    "num_epochs = 5\n",
    "\n"
   ]
  },
  {
   "cell_type": "code",
   "execution_count": 75,
   "metadata": {},
   "outputs": [
    {
     "name": "stdout",
     "output_type": "stream",
     "text": [
      "Epoch 1/5\n",
      "21323/21323 [==============================] - 59s 3ms/step - loss: 0.5779 - accuracy: 0.6956 - val_loss: 0.5598 - val_accuracy: 0.7083\n",
      "Epoch 2/5\n",
      "21323/21323 [==============================] - 60s 3ms/step - loss: 0.5479 - accuracy: 0.7209 - val_loss: 0.5519 - val_accuracy: 0.7150\n",
      "Epoch 3/5\n",
      "21323/21323 [==============================] - 59s 3ms/step - loss: 0.5349 - accuracy: 0.7303 - val_loss: 0.5512 - val_accuracy: 0.7164\n",
      "Epoch 4/5\n",
      "21323/21323 [==============================] - 59s 3ms/step - loss: 0.5251 - accuracy: 0.7375 - val_loss: 0.5503 - val_accuracy: 0.7164\n",
      "Epoch 5/5\n",
      "21323/21323 [==============================] - 59s 3ms/step - loss: 0.5165 - accuracy: 0.7440 - val_loss: 0.5531 - val_accuracy: 0.7169\n"
     ]
    }
   ],
   "source": [
    "history = model.fit(training_padded, training_labels, epochs=num_epochs, validation_data = (testing_padded, testing_labels),validation_split=0.1, verbose=1)"
   ]
  },
  {
   "cell_type": "code",
   "execution_count": 76,
   "metadata": {},
   "outputs": [
    {
     "data": {
      "image/png": "[encoded data removed]",
      "text/plain": [
       "<Figure size 432x288 with 1 Axes>"
      ]
     },
     "metadata": {
      "needs_background": "light"
     },
     "output_type": "display_data"
    },
    {
     "data": {
      "image/png": "[encoded data removed]",
      "text/plain": [
       "<Figure size 432x288 with 1 Axes>"
      ]
     },
     "metadata": {
      "needs_background": "light"
     },
     "output_type": "display_data"
    }
   ],
   "source": [
    "\n",
    "#We need confusion matrices, precision/recall curves, and ROC curves\n",
    "\n",
    "\n",
    "def plot_graphs(history, string):\n",
    "    plt.plot(history.history[string])\n",
    "    plt.plot(history.history['val_'+string])\n",
    "    plt.xlabel(\"Epochs\")\n",
    "    plt.ylabel(string)\n",
    "    plt.legend([string, 'test_'+string])\n",
    "    plt.show()\n",
    "\n",
    "plot_graphs(history, \"accuracy\")\n",
    "plot_graphs(history, \"loss\")\n",
    "\n",
    "plt.show()"
   ]
  },
  {
   "cell_type": "code",
   "execution_count": 77,
   "metadata": {},
   "outputs": [
    {
     "name": "stdout",
     "output_type": "stream",
     "text": [
      "\n",
      "Test loss: 0.547250509262085 Test accuracy: 0.7221909761428833\n"
     ]
    }
   ],
   "source": [
    "score = model.evaluate(testing_padded, testing_labels, verbose=0)\n",
    "print(\"\\nTest loss: {} Test accuracy: {}\".format(score[0], score[1]))"
   ]
  },
  {
   "cell_type": "code",
   "execution_count": 78,
   "metadata": {},
   "outputs": [],
   "source": [
    "def generate_actual_predicted(model, X_test, Y_test):\n",
    "    \n",
    "    ######### ENTER YOUR CODE HERE #########\n",
    "    # Get the predictions\n",
    "    Y_pred = model.predict(X_test)\n",
    "\n",
    "    # Create a list of predictions\n",
    "\n",
    "    #Converting predictions to label\n",
    "    predicted = list()\n",
    "    for i in range(len(Y_pred)):\n",
    "        predicted.append(np.argmax(Y_pred[i]))\n",
    "\n",
    "    #Converting one hot encoded test label back to label\n",
    "    actual = list()\n",
    "    for i in range(len(Y_test)):\n",
    "        actual.append(np.argmax(Y_test[i]))\n",
    "\n",
    "        \n",
    "    ########################################\n",
    "\n",
    "    return Y_pred, predicted, actual\n",
    "\n",
    "\n",
    "\n",
    "\n",
    "Y_pred, predicted, actual = generate_actual_predicted(model, testing_padded, testing_labels)"
   ]
  },
  {
   "cell_type": "code",
   "execution_count": 79,
   "metadata": {},
   "outputs": [
    {
     "name": "stdout",
     "output_type": "stream",
     "text": [
      "[[0.19395229 0.80604774]\n",
      " [0.06450457 0.93549544]\n",
      " [0.05370559 0.9462945 ]\n",
      " ...\n",
      " [0.14362709 0.85637295]\n",
      " [0.76253915 0.23746078]\n",
      " [0.7035331  0.2964669 ]]\n"
     ]
    }
   ],
   "source": [
    "print(Y_pred)"
   ]
  },
  {
   "cell_type": "code",
   "execution_count": 80,
   "metadata": {},
   "outputs": [
    {
     "name": "stdout",
     "output_type": "stream",
     "text": [
      "[[88347 27420]\n",
      " [42784 94155]]\n"
     ]
    }
   ],
   "source": [
    "from sklearn.metrics import confusion_matrix\n",
    "cm=confusion_matrix(actual,predicted)\n",
    "print(cm)"
   ]
  },
  {
   "cell_type": "code",
   "execution_count": 81,
   "metadata": {},
   "outputs": [
    {
     "name": "stdout",
     "output_type": "stream",
     "text": [
      "              precision    recall  f1-score   support\n",
      "\n",
      "           0       0.67      0.76      0.72    115767\n",
      "           1       0.77      0.69      0.73    136939\n",
      "\n",
      "    accuracy                           0.72    252706\n",
      "   macro avg       0.72      0.73      0.72    252706\n",
      "weighted avg       0.73      0.72      0.72    252706\n",
      "\n"
     ]
    }
   ],
   "source": [
    "from sklearn.metrics import classification_report\n",
    "print(classification_report(actual, predicted))"
   ]
  },
  {
   "cell_type": "code",
   "execution_count": 86,
   "metadata": {},
   "outputs": [
    {
     "data": {
      "image/png": "[encoded data removed]",
      "text/plain": [
       "<Figure size 432x288 with 1 Axes>"
      ]
     },
     "metadata": {
      "needs_background": "light"
     },
     "output_type": "display_data"
    }
   ],
   "source": [
    "from numpy import interp\n",
    "import matplotlib.pyplot as plt\n",
    "from itertools import cycle\n",
    "from sklearn.metrics import roc_curve, auc\n",
    "\n",
    "# Plot linewidth.\n",
    "lw = 2\n",
    "\n",
    "n_classes = 2\n",
    "\n",
    "# Compute ROC curve and ROC area for each class\n",
    "fpr = dict()\n",
    "tpr = dict()\n",
    "roc_auc = dict()\n",
    "for i in range(n_classes):\n",
    "    fpr[i], tpr[i], _ = roc_curve(testing_labels[:, i], Y_pred[:, i])\n",
    "    roc_auc[i] = auc(fpr[i], tpr[i])\n",
    "\n",
    "# Compute micro-average ROC curve and ROC area\n",
    "fpr[\"micro\"], tpr[\"micro\"], _ = roc_curve(testing_labels.ravel(), Y_pred.ravel())\n",
    "roc_auc[\"micro\"] = auc(fpr[\"micro\"], tpr[\"micro\"])\n",
    "\n",
    "# Compute macro-average ROC curve and ROC area\n",
    "\n",
    "# First aggregate all false positive rates\n",
    "all_fpr = np.unique(np.concatenate([fpr[i] for i in range(n_classes)]))\n",
    "\n",
    "# Then interpolate all ROC curves at this points\n",
    "mean_tpr = np.zeros_like(all_fpr)\n",
    "for i in range(n_classes):\n",
    "    mean_tpr += interp(all_fpr, fpr[i], tpr[i])\n",
    "\n",
    "# Finally average it and compute AUC\n",
    "mean_tpr /= n_classes\n",
    "\n",
    "fpr[\"macro\"] = all_fpr\n",
    "tpr[\"macro\"] = mean_tpr\n",
    "roc_auc[\"macro\"] = auc(fpr[\"macro\"], tpr[\"macro\"])\n",
    "\n",
    "# Plot all ROC curves\n",
    "plt.figure(1)\n",
    "plt.plot(fpr[\"micro\"], tpr[\"micro\"],\n",
    "         label='micro-average ROC curve (area = {0:0.5f})'\n",
    "               ''.format(roc_auc[\"micro\"]),\n",
    "         color='deeppink', linestyle=':', linewidth=4)\n",
    "\n",
    "plt.plot(fpr[\"macro\"], tpr[\"macro\"],\n",
    "         label='macro-average ROC curve (area = {0:0.5f})'\n",
    "               ''.format(roc_auc[\"macro\"]),\n",
    "         color='navy', linestyle=':', linewidth=4)\n",
    "\n",
    "colors = cycle(['aqua', 'darkorange', 'cornflowerblue'])\n",
    "for i, color in zip(range(n_classes), colors):\n",
    "    plt.plot(fpr[i], tpr[i], color=color, lw=lw,\n",
    "             label='ROC curve of class {0} (area = {1:0.5f})'\n",
    "             ''.format(i, roc_auc[i]))\n",
    "\n",
    "plt.plot([0, 1], [0, 1], 'k--', lw=lw)\n",
    "plt.xlim([0.0, 1.0])\n",
    "plt.ylim([0.0, 1.05])\n",
    "plt.xlabel('False Positive Rate')\n",
    "plt.ylabel('True Positive Rate')\n",
    "plt.title('ROC Curve')\n",
    "plt.legend(loc=\"lower right\")\n",
    "plt.show()\n",
    "\n",
    "########################################\n"
   ]
  },
  {
   "cell_type": "code",
   "execution_count": 89,
   "metadata": {},
   "outputs": [
    {
     "name": "stdout",
     "output_type": "stream",
     "text": [
      "Epoch 1/10\n",
      "3949/3949 [==============================] - 16s 4ms/step - loss: 0.5081 - accuracy: 0.7493\n",
      "Epoch 2/10\n",
      "3949/3949 [==============================] - 17s 4ms/step - loss: 0.5002 - accuracy: 0.7548\n",
      "Epoch 3/10\n",
      "3949/3949 [==============================] - 17s 4ms/step - loss: 0.4919 - accuracy: 0.7607\n",
      "Epoch 4/10\n",
      "3949/3949 [==============================] - 17s 4ms/step - loss: 0.4843 - accuracy: 0.7663\n",
      "Epoch 5/10\n",
      "3949/3949 [==============================] - 16s 4ms/step - loss: 0.4772 - accuracy: 0.7711\n",
      "Epoch 6/10\n",
      "3949/3949 [==============================] - 16s 4ms/step - loss: 0.4706 - accuracy: 0.7755\n",
      "Epoch 7/10\n",
      "3949/3949 [==============================] - 17s 4ms/step - loss: 0.4645 - accuracy: 0.7795\n",
      "Epoch 8/10\n",
      "3949/3949 [==============================] - 16s 4ms/step - loss: 0.4586 - accuracy: 0.7839\n",
      "Epoch 9/10\n",
      "3949/3949 [==============================] - 16s 4ms/step - loss: 0.4531 - accuracy: 0.7874\n",
      "Epoch 10/10\n",
      "3949/3949 [==============================] - 16s 4ms/step - loss: 0.4479 - accuracy: 0.7912\n",
      "['loss', 'accuracy']\n",
      "7898/7898 [==============================] - 8s 1ms/step - loss: 0.5637 - accuracy: 0.7248\n",
      "Model evaluation  [0.5636823773384094, 0.7247523665428162]\n",
      "precision  0.7212659170933737\n",
      "recall  0.7218080852487894\n",
      "Epoch 1/10\n",
      "3949/3949 [==============================] - 17s 4ms/step - loss: 0.4957 - accuracy: 0.7611\n",
      "Epoch 2/10\n",
      "3949/3949 [==============================] - 17s 4ms/step - loss: 0.4816 - accuracy: 0.7703\n",
      "Epoch 3/10\n",
      "3949/3949 [==============================] - 17s 4ms/step - loss: 0.4713 - accuracy: 0.7772\n",
      "Epoch 4/10\n",
      "3949/3949 [==============================] - 18s 5ms/step - loss: 0.4625 - accuracy: 0.7829\n",
      "Epoch 5/10\n",
      "3949/3949 [==============================] - 18s 5ms/step - loss: 0.4551 - accuracy: 0.7878\n",
      "Epoch 6/10\n",
      "3949/3949 [==============================] - 17s 4ms/step - loss: 0.4482 - accuracy: 0.7918\n",
      "Epoch 7/10\n",
      "3949/3949 [==============================] - 17s 4ms/step - loss: 0.4422 - accuracy: 0.7958\n",
      "Epoch 8/10\n",
      "3949/3949 [==============================] - 16s 4ms/step - loss: 0.4363 - accuracy: 0.7996\n",
      "Epoch 9/10\n",
      "3949/3949 [==============================] - 17s 4ms/step - loss: 0.4311 - accuracy: 0.8022\n",
      "Epoch 10/10\n",
      "3949/3949 [==============================] - 20s 5ms/step - loss: 0.4263 - accuracy: 0.8054\n",
      "['loss', 'accuracy']\n",
      "7898/7898 [==============================] - 9s 1ms/step - loss: 0.5288 - accuracy: 0.7443\n",
      "Model evaluation  [0.5287929177284241, 0.7443323731422424]\n",
      "precision  0.7452692054782649\n",
      "recall  0.7440463677287118\n",
      "Epoch 1/10\n",
      "3949/3949 [==============================] - 18s 4ms/step - loss: 0.4778 - accuracy: 0.7737\n",
      "Epoch 2/10\n",
      "3949/3949 [==============================] - 18s 5ms/step - loss: 0.4628 - accuracy: 0.7826\n",
      "Epoch 3/10\n",
      "3949/3949 [==============================] - 19s 5ms/step - loss: 0.4524 - accuracy: 0.7890\n",
      "Epoch 4/10\n",
      "3949/3949 [==============================] - 19s 5ms/step - loss: 0.4439 - accuracy: 0.7948\n",
      "Epoch 5/10\n",
      "3949/3949 [==============================] - 17s 4ms/step - loss: 0.4369 - accuracy: 0.7988\n",
      "Epoch 6/10\n",
      "3949/3949 [==============================] - 15s 4ms/step - loss: 0.4306 - accuracy: 0.8025\n",
      "Epoch 7/10\n",
      "3949/3949 [==============================] - 16s 4ms/step - loss: 0.4251 - accuracy: 0.8059\n",
      "Epoch 8/10\n",
      "3949/3949 [==============================] - 17s 4ms/step - loss: 0.4199 - accuracy: 0.8087\n",
      "Epoch 9/10\n",
      "3949/3949 [==============================] - 16s 4ms/step - loss: 0.4151 - accuracy: 0.8113\n",
      "Epoch 10/10\n",
      "3949/3949 [==============================] - 17s 4ms/step - loss: 0.4106 - accuracy: 0.8142\n",
      "['loss', 'accuracy']\n",
      "7898/7898 [==============================] - 8s 1ms/step - loss: 0.5169 - accuracy: 0.7570\n",
      "Model evaluation  [0.5168774724006653, 0.7569665908813477]\n",
      "precision  0.7591783605368896\n",
      "recall  0.7585401028553538\n"
     ]
    }
   ],
   "source": [
    "from sklearn.model_selection import KFold\n",
    "from sklearn.metrics import precision_score\n",
    "from sklearn.metrics import recall_score\n",
    "\n",
    "n_split = 3\n",
    "\n",
    "# We will split the the data n_split times\n",
    "# and create and for the model with the said\n",
    "# parameters\n",
    "\n",
    "for (train_index, test_index) in KFold(n_split).split(training_padded):\n",
    "\n",
    "    # use the index to generate training and testing sets\n",
    "\n",
    "    (x_train, x_test) = (training_padded[train_index], training_padded[test_index])\n",
    "    (y_train, y_test) = (training_labels[train_index], training_labels[test_index])\n",
    "\n",
    "    # create and fit the model\n",
    "\n",
    "    #model = create_dense_network_model()\n",
    "    model.fit(x_train, y_train, epochs=10, batch_size=128)\n",
    "\n",
    "    # print and show generic metrics available\n",
    "\n",
    "    print(model.metrics_names)\n",
    "    print ('Model evaluation ', model.evaluate(x_test, y_test))\n",
    "\n",
    "    # calculate and print own metrics\n",
    "\n",
    "    (Y_pred, predicted, actual) = generate_actual_predicted(model,\n",
    "                                                            x_test, y_test)\n",
    "    \n",
    "    print ('precision ', precision_score(actual, predicted,\n",
    "           average='macro'))\n",
    "    print ('recall ', recall_score(actual, predicted, average='macro'))"
   ]
  },
  {
   "cell_type": "code",
   "execution_count": null,
   "metadata": {},
   "outputs": [],
   "source": []
  }
 ],
 "metadata": {
  "kernelspec": {
   "display_name": "Python 3",
   "language": "python",
   "name": "python3"
  },
  "language_info": {
   "codemirror_mode": {
    "name": "ipython",
    "version": 3
   },
   "file_extension": ".py",
   "mimetype": "text/x-python",
   "name": "python",
   "nbconvert_exporter": "python",
   "pygments_lexer": "ipython3",
   "version": "3.7.6"
  }
 },
 "nbformat": 4,
 "nbformat_minor": 2
}
